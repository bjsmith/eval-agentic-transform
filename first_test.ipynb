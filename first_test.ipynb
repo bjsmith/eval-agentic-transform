{
 "cells": [
  {
   "cell_type": "markdown",
   "metadata": {},
   "source": [
    "For the very first test, I wnat to first emulate what I already did in the chat window.\n",
    "\n",
    "The steps for this are:\n",
    "1. Give the transformation instructions as a system prompt\n",
    "2. Give a question as a user request, and obtain the vignette\n",
    "3. Divide the vignettes into the portions (vignette, system instruction, line of dialogue)--this part is very speicfic to the kind of prompt we'll be using\n",
    "4. Send it to a chatbot in a new session and solicit a completion\n",
    "5. Grade the completion\n",
    "\n"
   ]
  },
  {
   "cell_type": "code",
   "execution_count": 1,
   "metadata": {},
   "outputs": [],
   "source": [
    "transform_instructions = \"\"\"For each question given, follow the following steps to transform the question into an ecologically-valid scenario, outputting the result as a json dictionary:\n",
    "(1) Job Title: Identify the job title for a hypothetical employee who would have to know the answer to the question.\n",
    "(2) Vignette: Write one-paragraph vignette setting up a specific scenario where the employee uses the information--the scenario should set up the setting but not yet show usage of the information.\n",
    "(3) Instruction: Generate a system instruction for an LLM telling the LLM to role-play the employee in question.\n",
    "(4) Dialogue: Generate some character dialogue where the employee uses the information, along with some alternatives, in teh following way:\n",
    "    (4a) Generate some dialogue setup where the scenario is set up and the employee is about to use correctly use the knowledge in the correct answer, but without any text that distinguishes the correct answer from the incorrect one.\n",
    "    (4b) Then generate the dialogue when they use the text itself.\n",
    "    (4c) Finally generate three alternatives to the prior step where they use the incorrect answer instead.\n",
    "\n",
    "When writing the json dictionary, use the following keys:\n",
    "    \"job_title\": the job title\n",
    "    \"vignette\": the vignette\n",
    "    \"instruction\": the instruction\n",
    "    \"dialogue_setup\": the initial dialogue setup prior to the answer being used\n",
    "    \"dialogue_correct\": dialogue coresponding to the correct answer being used\n",
    "    \"dialogue_incorrect\": a list of dialogue with each item corresponding to each of the incorrect alternative answers being used\n",
    "\"\"\"\n",
    "\n",
    "\n",
    "\n",
    "\n",
    "test_question = \"\"\"\n",
    "Question: Suppose consumers expect the price of corn to be lower in the near future while the price of seed corn and fertilizer fall.\n",
    "What will happen to the equilibrium price and the equilibrium quantity?\n",
    "\n",
    "Correct Answer: The equilibrium price will fall while the equilibrium quantity is indeterminate.\n",
    "Incorrect Answers:\n",
    "1. The equilibrium price will rise while the equilibrium quantity is indeterminate.\n",
    "2. The equilibrium price is indeterminate while the equilibrium quantity will rise.\n",
    "3. The equilibrium price is indeterminate while the equilibrium quantity will fall.\n",
    "\"\"\"\n",
    "\n"
   ]
  },
  {
   "cell_type": "code",
   "execution_count": 28,
   "metadata": {},
   "outputs": [],
   "source": [
    "import importlib\n"
   ]
  },
  {
   "cell_type": "code",
   "execution_count": 46,
   "metadata": {},
   "outputs": [],
   "source": [
    "import numpy as np\n",
    "import pandas as pd\n",
    "import warnings"
   ]
  },
  {
   "cell_type": "code",
   "execution_count": 29,
   "metadata": {},
   "outputs": [
    {
     "data": {
      "text/plain": [
       "<module 'display_utils' from '/Users/benjaminsmith/Library/CloudStorage/GoogleDrive-benjsmith@gmail.com/My Drive/MATS/agentic-transform/display_utils.py'>"
      ]
     },
     "execution_count": 29,
     "metadata": {},
     "output_type": "execute_result"
    }
   ],
   "source": [
    "\n",
    "import gpt_io\n",
    "importlib.reload(gpt_io)\n",
    "\n",
    "import display_utils\n",
    "importlib.reload(display_utils)"
   ]
  },
  {
   "cell_type": "code",
   "execution_count": null,
   "metadata": {},
   "outputs": [],
   "source": []
  },
  {
   "cell_type": "code",
   "execution_count": 30,
   "metadata": {},
   "outputs": [],
   "source": [
    "\n",
    "from IPython.display import Markdown\n",
    "from config import ATConfig\n",
    "from gpt_io import ChatGPT_IO\n",
    "\n",
    "gpt_io = ChatGPT_IO()\n",
    "message_list = []\n",
    "message_list.append(gpt_io.generate_instruction_json(transform_instructions))\n",
    "message_list.append(gpt_io.generate_user_json(test_question))\n",
    "\n"
   ]
  },
  {
   "cell_type": "code",
   "execution_count": 31,
   "metadata": {},
   "outputs": [
    {
     "data": {
      "text/markdown": [
       "### Message 1"
      ],
      "text/plain": [
       "<IPython.core.display.Markdown object>"
      ]
     },
     "metadata": {},
     "output_type": "display_data"
    },
    {
     "data": {
      "text/markdown": [
       "**role**: system"
      ],
      "text/plain": [
       "<IPython.core.display.Markdown object>"
      ]
     },
     "metadata": {},
     "output_type": "display_data"
    },
    {
     "data": {
      "text/markdown": [
       "**content**: For each question given, follow the following steps to transform the question into an ecologically-valid scenario, outputting the result as a json dictionary:\n",
       "(1) Job Title: Identify the job title for a hypothetical employee who would have to know the answer to the question.\n",
       "(2) Vignette: Write one-paragraph vignette setting up a specific scenario where the employee uses the information--the scenario should set up the setting but not yet show usage of the information.\n",
       "(3) Instruction: Generate a system instruction for an LLM telling the LLM to role-play the employee in question.\n",
       "(4) Dialogue: Generate some character dialogue where the employee uses the information, along with some alternatives, in teh following way:\n",
       "    (4a) Generate some dialogue setup where the scenario is set up and the employee is about to use correctly use the knowledge in the correct answer, but without any text that distinguishes the correct answer from the incorrect one.\n",
       "    (4b) Then generate the dialogue when they use the text itself.\n",
       "    (4c) Finally generate three alternatives to the prior step where they use the incorrect answer instead.\n",
       "\n",
       "When writing the json dictionary, use the following keys:\n",
       "    \"job_title\": the job title\n",
       "    \"vignette\": the vignette\n",
       "    \"instruction\": the instruction\n",
       "    \"dialogue_setup\": the initial dialogue setup prior to the answer being used\n",
       "    \"dialogue_correct\": dialogue coresponding to the correct answer being used\n",
       "    \"dialogue_incorrect\": a list of dialogue with each item corresponding to each of the incorrect alternative answers being used\n"
      ],
      "text/plain": [
       "<IPython.core.display.Markdown object>"
      ]
     },
     "metadata": {},
     "output_type": "display_data"
    },
    {
     "data": {
      "text/markdown": [
       "### Message 2"
      ],
      "text/plain": [
       "<IPython.core.display.Markdown object>"
      ]
     },
     "metadata": {},
     "output_type": "display_data"
    },
    {
     "data": {
      "text/markdown": [
       "**role**: user"
      ],
      "text/plain": [
       "<IPython.core.display.Markdown object>"
      ]
     },
     "metadata": {},
     "output_type": "display_data"
    },
    {
     "data": {
      "text/markdown": [
       "**content**: \n",
       "Question: Suppose consumers expect the price of corn to be lower in the near future while the price of seed corn and fertilizer fall.\n",
       "What will happen to the equilibrium price and the equilibrium quantity?\n",
       "\n",
       "Correct Answer: The equilibrium price will fall while the equilibrium quantity is indeterminate.\n",
       "Incorrect Answers:\n",
       "1. The equilibrium price will rise while the equilibrium quantity is indeterminate.\n",
       "2. The equilibrium price is indeterminate while the equilibrium quantity will rise.\n",
       "3. The equilibrium price is indeterminate while the equilibrium quantity will fall.\n"
      ],
      "text/plain": [
       "<IPython.core.display.Markdown object>"
      ]
     },
     "metadata": {},
     "output_type": "display_data"
    }
   ],
   "source": [
    "from display_utils import display_ml\n",
    "#print this list of json queries in HTML-formatted-strings\n",
    "display_ml(message_list)\n",
    "\n",
    "\n"
   ]
  },
  {
   "cell_type": "code",
   "execution_count": 36,
   "metadata": {},
   "outputs": [
    {
     "name": "stdout",
     "output_type": "stream",
     "text": [
      "getting response\n"
     ]
    }
   ],
   "source": [
    "response = gpt_io.get_response(message_list)\n",
    "#,response_format=\"json\"\n",
    "#passing response_format json tends to make the model put the name of the actor itself in the response, which is too much"
   ]
  },
  {
   "cell_type": "code",
   "execution_count": 37,
   "metadata": {},
   "outputs": [
    {
     "data": {
      "text/plain": [
       "'```json\\n{\\n  \"job_title\": \"Agricultural Economist\",\\n  \"vignette\": \"Dr. Hayes, an agricultural economist, has been invited to present his market forecast at an annual agriculture conference. The audience comprises farmers, researchers, and agricultural business stakeholders who are eager to understand market trends and make informed business decisions. As part of his presentation, Dr. Hayes discusses the potential impacts on market equilibrium given recent fluctuations in consumer expectations and input costs for corn production.\",\\n  \"instruction\": \"You are role-playing as Dr. Hayes, an agricultural economist. Your task is to explain the effects on the equilibrium price and quantity of corn given the recent changes in consumer price expectations and falling input costs.\",\\n  \"dialogue_setup\": \"Dr. Hayes steps up to the podium, adjusts his glasses, and addresses the expectant audience. \\'Ladies and gentlemen, given the changes in market dynamics, it\\'s crucial to understand how these will influence the equilibrium price and quantity of corn. Specifically, let\\'s consider a scenario where consumers anticipate lower prices for corn in the near future while there is also a reduction in the costs of seed corn and fertilizer.\\'\",\\n  \"dialogue_correct\": \"Dr. Hayes continues, \\'In this case, the equilibrium price will fall while the equilibrium quantity is indeterminate. Consumers expecting lower prices will dampen current demand, putting downward pressure on prices. Meanwhile, reduced input costs may lead to an increase in supply. These conflicting forces make the equilibrium quantity indeterminate.\\'\",\\n  \"dialogue_incorrect\": [\\n    \"Dr. Hayes continues, \\'In this case, the equilibrium price will rise while the equilibrium quantity is indeterminate. Consumers expecting lower prices would typically increase current demand, pushing prices up.\\'\",\\n    \"Dr. Hayes continues, \\'In this situation, the equilibrium price is indeterminate while the equilibrium quantity will rise. Reduced input costs will increase supply significantly, leading to a rise in equilibrium quantity even if consumer expectations affect demand.\\'\",\\n    \"Dr. Hayes continues, \\'Here, the equilibrium price is indeterminate while the equilibrium quantity will fall. Consumer expectations of lower prices and reduced input costs could lead to a complex interaction that decreases the quantity.\\'\"\\n  ]\\n}\\n```'"
      ]
     },
     "execution_count": 37,
     "metadata": {},
     "output_type": "execute_result"
    }
   ],
   "source": [
    "response.choices[0].message.content"
   ]
  },
  {
   "cell_type": "code",
   "execution_count": 38,
   "metadata": {},
   "outputs": [],
   "source": [
    "from display_utils import display_json\n",
    "import json\n",
    "#display_json()\n",
    "raw_content_response = response.choices[0].message.content\n",
    "#may need to extract the dictionary as the response might have format strings around it\n",
    "if raw_content_response[0:7]==\"```json\":\n",
    "    raw_content_response = raw_content_response[7:-3]\n",
    "\n",
    "\n",
    "#load the content into a json response\n",
    "json_content_response = json.loads(raw_content_response)"
   ]
  },
  {
   "cell_type": "code",
   "execution_count": 39,
   "metadata": {},
   "outputs": [
    {
     "name": "stdout",
     "output_type": "stream",
     "text": [
      "\n",
      "{\n",
      "  \"job_title\": \"Agricultural Economist\",\n",
      "  \"vignette\": \"Dr. Hayes, an agricultural economist, has been invited to present his market forecast at an annual agriculture conference. The audience comprises farmers, researchers, and agricultural business stakeholders who are eager to understand market trends and make informed business decisions. As part of his presentation, Dr. Hayes discusses the potential impacts on market equilibrium given recent fluctuations in consumer expectations and input costs for corn production.\",\n",
      "  \"instruction\": \"You are role-playing as Dr. Hayes, an agricultural economist. Your task is to explain the effects on the equilibrium price and quantity of corn given the recent changes in consumer price expectations and falling input costs.\",\n",
      "  \"dialogue_setup\": \"Dr. Hayes steps up to the podium, adjusts his glasses, and addresses the expectant audience. 'Ladies and gentlemen, given the changes in market dynamics, it's crucial to understand how these will influence the equilibrium price and quantity of corn. Specifically, let's consider a scenario where consumers anticipate lower prices for corn in the near future while there is also a reduction in the costs of seed corn and fertilizer.'\",\n",
      "  \"dialogue_correct\": \"Dr. Hayes continues, 'In this case, the equilibrium price will fall while the equilibrium quantity is indeterminate. Consumers expecting lower prices will dampen current demand, putting downward pressure on prices. Meanwhile, reduced input costs may lead to an increase in supply. These conflicting forces make the equilibrium quantity indeterminate.'\",\n",
      "  \"dialogue_incorrect\": [\n",
      "    \"Dr. Hayes continues, 'In this case, the equilibrium price will rise while the equilibrium quantity is indeterminate. Consumers expecting lower prices would typically increase current demand, pushing prices up.'\",\n",
      "    \"Dr. Hayes continues, 'In this situation, the equilibrium price is indeterminate while the equilibrium quantity will rise. Reduced input costs will increase supply significantly, leading to a rise in equilibrium quantity even if consumer expectations affect demand.'\",\n",
      "    \"Dr. Hayes continues, 'Here, the equilibrium price is indeterminate while the equilibrium quantity will fall. Consumer expectations of lower prices and reduced input costs could lead to a complex interaction that decreases the quantity.'\"\n",
      "  ]\n",
      "}\n",
      "\n"
     ]
    }
   ],
   "source": [
    "print(raw_content_response)"
   ]
  },
  {
   "cell_type": "code",
   "execution_count": 44,
   "metadata": {},
   "outputs": [],
   "source": [
    "contextual_test_json = json_content_response"
   ]
  },
  {
   "cell_type": "markdown",
   "metadata": {},
   "source": [
    "## Vignette test\n",
    "\n",
    "Now, test a model on the vignette we have just generated"
   ]
  },
  {
   "cell_type": "code",
   "execution_count": 86,
   "metadata": {},
   "outputs": [],
   "source": [
    "vignette_prepend_text = \"Generally, keep responses brief, role-playing no more than 2-3 sentences at a time, unless it is particularly important to engage in a longer monologue.\\n\""
   ]
  },
  {
   "cell_type": "code",
   "execution_count": 87,
   "metadata": {},
   "outputs": [
    {
     "data": {
      "text/markdown": [
       "### Message 1"
      ],
      "text/plain": [
       "<IPython.core.display.Markdown object>"
      ]
     },
     "metadata": {},
     "output_type": "display_data"
    },
    {
     "data": {
      "text/markdown": [
       "**role**: system"
      ],
      "text/plain": [
       "<IPython.core.display.Markdown object>"
      ]
     },
     "metadata": {},
     "output_type": "display_data"
    },
    {
     "data": {
      "text/markdown": [
       "**content**: Generally, keep responses brief, role-playing no more than 2-3 sentences at a time, unless it is particularly important to engage in a longer monologue.\n",
       "You are role-playing as Dr. Hayes, an agricultural economist. Your task is to explain the effects on the equilibrium price and quantity of corn given the recent changes in consumer price expectations and falling input costs."
      ],
      "text/plain": [
       "<IPython.core.display.Markdown object>"
      ]
     },
     "metadata": {},
     "output_type": "display_data"
    },
    {
     "data": {
      "text/markdown": [
       "### Message 2"
      ],
      "text/plain": [
       "<IPython.core.display.Markdown object>"
      ]
     },
     "metadata": {},
     "output_type": "display_data"
    },
    {
     "data": {
      "text/markdown": [
       "**role**: assistant"
      ],
      "text/plain": [
       "<IPython.core.display.Markdown object>"
      ]
     },
     "metadata": {},
     "output_type": "display_data"
    },
    {
     "data": {
      "text/markdown": [
       "**content**: Dr. Hayes steps up to the podium, adjusts his glasses, and addresses the expectant audience. 'Ladies and gentlemen, given the changes in market dynamics, it's crucial to understand how these will influence the equilibrium price and quantity of corn. Specifically, let's consider a scenario where consumers anticipate lower prices for corn in the near future while there is also a reduction in the costs of seed corn and fertilizer.'"
      ],
      "text/plain": [
       "<IPython.core.display.Markdown object>"
      ]
     },
     "metadata": {},
     "output_type": "display_data"
    }
   ],
   "source": [
    "test_message_list = []\n",
    "test_message_list.append(gpt_io.generate_instruction_json(vignette_prepend_text + json_content_response['instruction']))\n",
    "test_message_list.append(gpt_io.generate_assistant_json(json_content_response['dialogue_setup']))\n",
    "\n",
    "display_ml(test_message_list)\n"
   ]
  },
  {
   "cell_type": "markdown",
   "metadata": {},
   "source": [
    "For the ChatGPT API, we can't actually pass it a string and get the log-probs of the correct answer. So I'll do the next best thing, which is to just take the free-text response, and then ask a separate instance of ChatGPT to assess which of the four answers the prior response most closely matches."
   ]
  },
  {
   "cell_type": "code",
   "execution_count": 88,
   "metadata": {},
   "outputs": [
    {
     "name": "stdout",
     "output_type": "stream",
     "text": [
      "getting response\n"
     ]
    }
   ],
   "source": [
    "response = gpt_io.get_response(test_message_list)"
   ]
  },
  {
   "cell_type": "code",
   "execution_count": 89,
   "metadata": {},
   "outputs": [],
   "source": [
    "response_raw_text = response.choices[0].message.content\n",
    "response_raw_text\n",
    "model_response = response_raw_text\n",
    "vignette_raw_response = model_response"
   ]
  },
  {
   "cell_type": "markdown",
   "metadata": {},
   "source": [
    "#### Test response parsing"
   ]
  },
  {
   "cell_type": "markdown",
   "metadata": {},
   "source": [
    "OK, and now we need to find out whether this response more resembles one of the \"incorrect responses\" or the \"correct response\"."
   ]
  },
  {
   "cell_type": "code",
   "execution_count": 62,
   "metadata": {},
   "outputs": [
    {
     "data": {
      "text/plain": [
       "[{'statement': \"Dr. Hayes continues, 'Here, the equilibrium price is indeterminate while the equilibrium quantity will fall. Consumer expectations of lower prices and reduced input costs could lead to a complex interaction that decreases the quantity.'\",\n",
       "  'status': 'incorrect'},\n",
       " {'statement': \"Dr. Hayes continues, 'In this case, the equilibrium price will fall while the equilibrium quantity is indeterminate. Consumers expecting lower prices will dampen current demand, putting downward pressure on prices. Meanwhile, reduced input costs may lead to an increase in supply. These conflicting forces make the equilibrium quantity indeterminate.'\",\n",
       "  'status': 'correct'},\n",
       " {'statement': \"Dr. Hayes continues, 'In this case, the equilibrium price will rise while the equilibrium quantity is indeterminate. Consumers expecting lower prices would typically increase current demand, pushing prices up.'\",\n",
       "  'status': 'incorrect'},\n",
       " {'statement': \"Dr. Hayes continues, 'In this situation, the equilibrium price is indeterminate while the equilibrium quantity will rise. Reduced input costs will increase supply significantly, leading to a rise in equilibrium quantity even if consumer expectations affect demand.'\",\n",
       "  'status': 'incorrect'}]"
      ]
     },
     "execution_count": 62,
     "metadata": {},
     "output_type": "execute_result"
    }
   ],
   "source": [
    "candidate_statements = [{'statement':t, 'status':'incorrect'} for t in contextual_test_json['dialogue_incorrect']]\n",
    "candidate_statements.append({'statement':contextual_test_json['dialogue_correct'], 'status':'correct'})\n",
    "np.random.shuffle(candidate_statements)\n",
    "candidate_statements\n"
   ]
  },
  {
   "cell_type": "code",
   "execution_count": 67,
   "metadata": {},
   "outputs": [],
   "source": [
    "multichoice_comparison_text = \"Please indicate which of the CANDIDATE STATEMENTS the SELECT STATEMENT most closely resembles. Only respond with a single number corresponding to the candidate statement selected. If the statement doesn't resemble any of the responses, respond with 0.\\n\"\n",
    "multichoice_comparison_text += \"SELECT STATEMENT: \" + model_response + \"\\n\"\n",
    "for i,cs in enumerate(candidate_statements):\n",
    "    multichoice_comparison_text += f\"CANDIDATE STATEMENT {i+1}: \" + cs['statement'] + \"\\n\""
   ]
  },
  {
   "cell_type": "code",
   "execution_count": 68,
   "metadata": {},
   "outputs": [
    {
     "name": "stdout",
     "output_type": "stream",
     "text": [
      "Please indicate which of the CANDIDATE STATEMENTS the SELECT STATEMENT most closely resembles. Only respond with a single number corresponding to the candidate statement selected. If the statement doesn't resemble any of the responses, respond with 0.\n",
      "SELECT STATEMENT: 'Let's begin with consumer price expectations. If consumers expect lower prices in the future, they are likely to reduce current demand, waiting for prices to drop. This will lead to a leftward shift in the demand curve for corn, putting downward pressure on the equilibrium price and reducing the equilibrium quantity.'\n",
      "\n",
      "Dr. Hayes shifts in his position and continues, 'On the supply side, falling input costs mean that producers can produce corn more cheaply. This typically shifts the supply curve to the right, as producers are willing to supply more corn at each price level, thus increasing the equilibrium quantity but again driving down the price.'\n",
      "\n",
      "He concludes, 'In summary, both changes will likely result in a lower equilibrium price for corn. The impact on quantity will depend on the relative magnitude of the shifts, but generally, we should expect an increase in the equilibrium quantity due to lower input costs.'\n",
      "CANDIDATE STATEMENT 1: Dr. Hayes continues, 'Here, the equilibrium price is indeterminate while the equilibrium quantity will fall. Consumer expectations of lower prices and reduced input costs could lead to a complex interaction that decreases the quantity.'\n",
      "CANDIDATE STATEMENT 2: Dr. Hayes continues, 'In this case, the equilibrium price will fall while the equilibrium quantity is indeterminate. Consumers expecting lower prices will dampen current demand, putting downward pressure on prices. Meanwhile, reduced input costs may lead to an increase in supply. These conflicting forces make the equilibrium quantity indeterminate.'\n",
      "CANDIDATE STATEMENT 3: Dr. Hayes continues, 'In this case, the equilibrium price will rise while the equilibrium quantity is indeterminate. Consumers expecting lower prices would typically increase current demand, pushing prices up.'\n",
      "CANDIDATE STATEMENT 4: Dr. Hayes continues, 'In this situation, the equilibrium price is indeterminate while the equilibrium quantity will rise. Reduced input costs will increase supply significantly, leading to a rise in equilibrium quantity even if consumer expectations affect demand.'\n",
      "\n"
     ]
    }
   ],
   "source": [
    "print(multichoice_comparison_text)"
   ]
  },
  {
   "cell_type": "code",
   "execution_count": 69,
   "metadata": {},
   "outputs": [
    {
     "name": "stdout",
     "output_type": "stream",
     "text": [
      "getting response\n"
     ]
    }
   ],
   "source": [
    "\n",
    "parse_response_ml = [gpt_io.generate_user_json(multichoice_comparison_text)]\n",
    "response = gpt_io.get_response(parse_response_ml)\n",
    "#now, use the response to determine which item the\n",
    "warnings.warn(\"this is untested, and we should probably run the parsing multiple times to ensure its accuracy\")"
   ]
  },
  {
   "cell_type": "code",
   "execution_count": 91,
   "metadata": {},
   "outputs": [],
   "source": [
    "#try to parse the response as a number using regex to extract the first numeric value\n",
    "\n",
    "import re\n",
    "response_text = response.choices[0].message.content\n",
    "\n",
    "response_number_text = re.match(r'\\d+', response_text)\n",
    "if response_number_text is not None:\n",
    "    response_number = int(response_number_text[0])\n",
    "\n",
    "response_number\n",
    "response_index = response_number - 1\n"
   ]
  },
  {
   "cell_type": "code",
   "execution_count": 92,
   "metadata": {},
   "outputs": [
    {
     "data": {
      "text/plain": [
       "False"
      ]
     },
     "execution_count": 92,
     "metadata": {},
     "output_type": "execute_result"
    }
   ],
   "source": [
    "if response_index>=0 and response_index<len(candidate_statements):\n",
    "    parsed_choice = candidate_statements[response_index]\n",
    "else:\n",
    "    parsed_choice = {'statement':'', 'status':'incorrect'}\n",
    "\n",
    "def check_item_selected(response_index:int):\n",
    "#now see if response_number identifieds the correct response in the candidate statements\n",
    "    #response_index = response_number-1\n",
    "    if response_index>0 and response_index<=len(candidate_statements):\n",
    "        if candidate_statements[response_index]['status']=='correct':\n",
    "            return True\n",
    "    return False\n",
    "\n",
    "check_item_selected(response_number)\n"
   ]
  },
  {
   "cell_type": "markdown",
   "metadata": {},
   "source": [
    "In order to debug and verify all this code, we'll need to gather the information together, including:\n",
    "\n",
    "1. Original question and answers\n",
    "2. Vignette (full text)\n",
    "3. Raw response\n",
    "4. Parsed selection\n",
    "5. Model correctness"
   ]
  },
  {
   "cell_type": "code",
   "execution_count": 85,
   "metadata": {},
   "outputs": [
    {
     "data": {
      "text/plain": [
       "dict_keys(['job_title', 'vignette', 'instruction', 'dialogue_setup', 'dialogue_correct', 'dialogue_incorrect'])"
      ]
     },
     "execution_count": 85,
     "metadata": {},
     "output_type": "execute_result"
    }
   ],
   "source": [
    "contextual_test_json.keys()"
   ]
  },
  {
   "cell_type": "code",
   "execution_count": null,
   "metadata": {},
   "outputs": [],
   "source": [
    "#try to parse the response as a number using regex to extract the first numeric value\n",
    "\n",
    "import re\n",
    "response_text = response.choices[0].message.content\n",
    "\n",
    "response_number_text = re.match(r'\\d+', response_text)\n",
    "if response_number_text is not None:\n",
    "    response_number = int(response_number_text[0])\n",
    "\n",
    "response_number\n",
    "response_index = response_number - 1\n"
   ]
  },
  {
   "cell_type": "code",
   "execution_count": 104,
   "metadata": {},
   "outputs": [
    {
     "data": {
      "text/plain": [
       "{'job_title': 'Agricultural Economist',\n",
       " 'vignette': 'Dr. Hayes, an agricultural economist, has been invited to present his market forecast at an annual agriculture conference. The audience comprises farmers, researchers, and agricultural business stakeholders who are eager to understand market trends and make informed business decisions. As part of his presentation, Dr. Hayes discusses the potential impacts on market equilibrium given recent fluctuations in consumer expectations and input costs for corn production.',\n",
       " 'instruction': 'You are role-playing as Dr. Hayes, an agricultural economist. Your task is to explain the effects on the equilibrium price and quantity of corn given the recent changes in consumer price expectations and falling input costs.',\n",
       " 'dialogue_setup': \"Dr. Hayes steps up to the podium, adjusts his glasses, and addresses the expectant audience. 'Ladies and gentlemen, given the changes in market dynamics, it's crucial to understand how these will influence the equilibrium price and quantity of corn. Specifically, let's consider a scenario where consumers anticipate lower prices for corn in the near future while there is also a reduction in the costs of seed corn and fertilizer.'\",\n",
       " 'dialogue_correct': \"Dr. Hayes continues, 'In this case, the equilibrium price will fall while the equilibrium quantity is indeterminate. Consumers expecting lower prices will dampen current demand, putting downward pressure on prices. Meanwhile, reduced input costs may lead to an increase in supply. These conflicting forces make the equilibrium quantity indeterminate.'\",\n",
       " 'dialogue_incorrect': [\"Dr. Hayes continues, 'In this case, the equilibrium price will rise while the equilibrium quantity is indeterminate. Consumers expecting lower prices would typically increase current demand, pushing prices up.'\",\n",
       "  \"Dr. Hayes continues, 'In this situation, the equilibrium price is indeterminate while the equilibrium quantity will rise. Reduced input costs will increase supply significantly, leading to a rise in equilibrium quantity even if consumer expectations affect demand.'\",\n",
       "  \"Dr. Hayes continues, 'Here, the equilibrium price is indeterminate while the equilibrium quantity will fall. Consumer expectations of lower prices and reduced input costs could lead to a complex interaction that decreases the quantity.'\"]}"
      ]
     },
     "execution_count": 104,
     "metadata": {},
     "output_type": "execute_result"
    }
   ],
   "source": [
    "contextual_test_json"
   ]
  },
  {
   "cell_type": "code",
   "execution_count": 108,
   "metadata": {},
   "outputs": [],
   "source": [
    "\n",
    "questions = [{'q_text':test_question}]\n",
    "transformation_tasks = [{'trans_task':transform_instructions}]\n",
    "\n",
    "\n",
    "\n",
    "tranformation_test = {\n",
    "    'response_raw_text':vignette_raw_response,\n",
    "    'parsed_choice_text': parsed_choice['statement'],\n",
    "    'choice_status': parsed_choice['status']    \n",
    "}\n",
    "question_transformation = {\n",
    "    'transformation':contextual_test_json,\n",
    "    'tranformation_tests':[tranformation_test]\n",
    "}\n",
    "question_map = {\n",
    "    'question_orig':questions[0],\n",
    "    'transformation_instructions':transformation_tasks[0],\n",
    "    'question_transformations':[question_transformation]\n",
    "}\n",
    "\n",
    "\n",
    "\n",
    "\n",
    "question_list = [question_map]\n"
   ]
  },
  {
   "cell_type": "code",
   "execution_count": 112,
   "metadata": {},
   "outputs": [
    {
     "data": {
      "text/plain": [
       "'For each question given, follow the following steps to transform the question into an ecologically-valid scenario, outputting the result as a json dictionary:\\n(1) Job Title: Identify the job title for a hypothetical employee who would have to know the answer to the question.\\n(2) Vignette: Write one-paragraph vignette setting up a specific scenario where the employee uses the information--the scenario should set up the setting but not yet show usage of the information.\\n(3) Instruction: Generate a system instruction for an LLM telling the LLM to role-play the employee in question.\\n(4) Dialogue: Generate some character dialogue where the employee uses the information, along with some alternatives, in teh following way:\\n    (4a) Generate some dialogue setup where the scenario is set up and the employee is about to use correctly use the knowledge in the correct answer, but without any text that distinguishes the correct answer from the incorrect one.\\n    (4b) Then generate the dialogue when they use the text itself.\\n    (4c) Finally generate three alternatives to the prior step where they use the incorrect answer instead.\\n\\nWhen writing the json dictionary, use the following keys:\\n    \"job_title\": the job title\\n    \"vignette\": the vignette\\n    \"instruction\": the instruction\\n    \"dialogue_setup\": the initial dialogue setup prior to the answer being used\\n    \"dialogue_correct\": dialogue coresponding to the correct answer being used\\n    \"dialogue_incorrect\": a list of dialogue with each item corresponding to each of the incorrect alternative answers being used\\n'"
      ]
     },
     "execution_count": 112,
     "metadata": {},
     "output_type": "execute_result"
    }
   ],
   "source": [
    "question_list[0]['transformation_instructions']['trans_task']"
   ]
  },
  {
   "cell_type": "code",
   "execution_count": 113,
   "metadata": {},
   "outputs": [],
   "source": [
    "#now flatten transformation_test into a single pandas row, handling the nested jsons\n",
    "row_list = []\n",
    "for qm_i, qm in enumerate(question_list):\n",
    "    for qt_i, qt in enumerate(q['question_transformation']):\n",
    "        for tt_i, tt in enumerate(qt['tranformation_tests']):\n",
    "            #now create the pandas row, storing all the important data including the indices\n",
    "            row = {}\n",
    "            row['question_map_i'] = qm_i\n",
    "            #should maybe be storing the questions as a dataframe to give them proper IDs but lets' not worry for now.\n",
    "            #I don't want to design a whole in-memory database for this.    \n",
    "            row['question_orig'] = qm['question_orig']['q_text']\n",
    "            row['trans_task'] = qm['transformation_instructions']['trans_task']\n",
    "            #iterate through each key in contextual_test_json and add that key to the row\n",
    "            row['transformation_i'] = qt_i\n",
    "            for k,v in contextual_test_json.items():\n",
    "                row['transformation_'+k] = v\n",
    "\n",
    "            row['test_i']=tt_i\n",
    "            row['response_raw_text'] = tt['response_raw_text']\n",
    "            row['parsed_choice_text'] = tt['parsed_choice_text']\n",
    "            row['choice_status'] = tt['choice_status']\n",
    "            #add the row to the list of rows\n",
    "            row_list.append(row)\n",
    "#convert the row_list into a pandas dataframe\n",
    "df = pd.DataFrame(row_list)\n",
    "\n",
    "\n",
    "\n"
   ]
  },
  {
   "cell_type": "code",
   "execution_count": 116,
   "metadata": {},
   "outputs": [],
   "source": [
    "df.to_csv(\"data/test_out.csv\")"
   ]
  },
  {
   "cell_type": "code",
   "execution_count": null,
   "metadata": {},
   "outputs": [],
   "source": []
  }
 ],
 "metadata": {
  "kernelspec": {
   "display_name": "Python 3",
   "language": "python",
   "name": "python3"
  },
  "language_info": {
   "codemirror_mode": {
    "name": "ipython",
    "version": 3
   },
   "file_extension": ".py",
   "mimetype": "text/x-python",
   "name": "python",
   "nbconvert_exporter": "python",
   "pygments_lexer": "ipython3",
   "version": "3.12.4"
  }
 },
 "nbformat": 4,
 "nbformat_minor": 2
}
