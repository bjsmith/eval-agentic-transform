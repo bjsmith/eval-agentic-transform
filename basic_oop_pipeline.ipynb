{
 "cells": [
  {
   "cell_type": "code",
   "execution_count": 1,
   "metadata": {},
   "outputs": [],
   "source": [
    "\n",
    "import importlib"
   ]
  },
  {
   "cell_type": "code",
   "execution_count": 2,
   "metadata": {},
   "outputs": [],
   "source": [
    "#from transformation import QuestionTransformer\n",
    "import evaluation\n",
    "import gpt_io\n",
    "import transformation\n",
    "from evaluation import ModelEvaluator"
   ]
  },
  {
   "cell_type": "code",
   "execution_count": 3,
   "metadata": {},
   "outputs": [
    {
     "name": "stdout",
     "output_type": "stream",
     "text": [
      "For each question given, follow the following steps to transform the question into an ecologically-valid scenario, outputting the result as a json dictionary:\n",
      "(1) Job Title: Identify the job title for a hypothetical employee who would have to know the answer to the question.\n",
      "(2) Vignette: Write one-paragraph vignette setting up a specific scenario where the employee uses the information--the scenario should set up the setting but not yet show usage of the information.\n",
      "(3) Instruction: Generate a system instruction for an LLM telling the LLM to role-play the employee in question.\n",
      "(4) Dialogue: Generate some character dialogue where the employee uses the information, along with some alternatives, in teh following way:\n",
      "    (4a) Generate some dialogue setup where the scenario is set up and the employee is about to use correctly use the knowledge in the correct answer, but without any text that distinguishes the correct answer from the incorrect one.\n",
      "    (4b) Then generate the dialogue when they use the text itself.\n",
      "    (4c) Finally generate three alternatives to the prior step where they use the incorrect answer instead.\n",
      "\n",
      "When writing the json dictionary, use the following keys:\n",
      "    \"job_title\": the job title\n",
      "    \"vignette\": the vignette\n",
      "    \"instruction\": the instruction\n",
      "    \"dialogue_setup\": the initial dialogue setup prior to the answer being used\n",
      "    \"dialogue_correct\": dialogue coresponding to the correct answer being used\n",
      "    \"dialogue_incorrect\": a list of dialogue with each item corresponding to each of the incorrect alternative answers being used\n",
      "\n",
      "Do not define any of the values in the dictionaries as dictionaries themselves. They should only be strings, numbers, or lists when specifically requested.\n",
      "Question: Suppose consumers expect the price of corn to be lower in the near future while the price of seed corn and fertilizer fall.\n",
      "What will happen to the equilibrium price and the equilibrium quantity?\n",
      "\n",
      "Correct Answer: The equilibrium price will fall while the equilibrium quantity is indeterminate.\n",
      "Incorrect Answers:\n",
      "1. The equilibrium price will rise while the equilibrium quantity is indeterminate.\n",
      "2. The equilibrium price is indeterminate while the equilibrium quantity will rise.\n",
      "3. The equilibrium price is indeterminate while the equilibrium quantity will fall.\n"
     ]
    }
   ],
   "source": [
    "\n",
    "\n",
    "#read the transform instruction from the text flatfile\n",
    "with open(\"data/transform_instructions/instruction_1.txt\", \"r\") as f:\n",
    "    transform_instruction = f.read()\n",
    "    print(transform_instruction)\n",
    "\n",
    "qt = transformation.QuestionTransformer(transform_instruction)\n",
    "\n",
    "#read the question from the text flatfile\n",
    "with open(\"data/test_questions/question1.txt\", \"r\") as f:\n",
    "    question = f.read()\n",
    "    print(question)\n",
    "    \n"
   ]
  },
  {
   "cell_type": "code",
   "execution_count": 4,
   "metadata": {},
   "outputs": [
    {
     "data": {
      "text/markdown": [
       "### Message 1"
      ],
      "text/plain": [
       "<IPython.core.display.Markdown object>"
      ]
     },
     "metadata": {},
     "output_type": "display_data"
    },
    {
     "data": {
      "text/markdown": [
       "**role**: system"
      ],
      "text/plain": [
       "<IPython.core.display.Markdown object>"
      ]
     },
     "metadata": {},
     "output_type": "display_data"
    },
    {
     "data": {
      "text/markdown": [
       "**content**: For each question given, follow the following steps to transform the question into an ecologically-valid scenario, outputting the result as a json dictionary:\n",
       "(1) Job Title: Identify the job title for a hypothetical employee who would have to know the answer to the question.\n",
       "(2) Vignette: Write one-paragraph vignette setting up a specific scenario where the employee uses the information--the scenario should set up the setting but not yet show usage of the information.\n",
       "(3) Instruction: Generate a system instruction for an LLM telling the LLM to role-play the employee in question.\n",
       "(4) Dialogue: Generate some character dialogue where the employee uses the information, along with some alternatives, in teh following way:\n",
       "    (4a) Generate some dialogue setup where the scenario is set up and the employee is about to use correctly use the knowledge in the correct answer, but without any text that distinguishes the correct answer from the incorrect one.\n",
       "    (4b) Then generate the dialogue when they use the text itself.\n",
       "    (4c) Finally generate three alternatives to the prior step where they use the incorrect answer instead.\n",
       "\n",
       "When writing the json dictionary, use the following keys:\n",
       "    \"job_title\": the job title\n",
       "    \"vignette\": the vignette\n",
       "    \"instruction\": the instruction\n",
       "    \"dialogue_setup\": the initial dialogue setup prior to the answer being used\n",
       "    \"dialogue_correct\": dialogue coresponding to the correct answer being used\n",
       "    \"dialogue_incorrect\": a list of dialogue with each item corresponding to each of the incorrect alternative answers being used\n",
       "\n",
       "Do not define any of the values in the dictionaries as dictionaries themselves. They should only be strings, numbers, or lists when specifically requested."
      ],
      "text/plain": [
       "<IPython.core.display.Markdown object>"
      ]
     },
     "metadata": {},
     "output_type": "display_data"
    },
    {
     "data": {
      "text/markdown": [
       "### Message 2"
      ],
      "text/plain": [
       "<IPython.core.display.Markdown object>"
      ]
     },
     "metadata": {},
     "output_type": "display_data"
    },
    {
     "data": {
      "text/markdown": [
       "**role**: user"
      ],
      "text/plain": [
       "<IPython.core.display.Markdown object>"
      ]
     },
     "metadata": {},
     "output_type": "display_data"
    },
    {
     "data": {
      "text/markdown": [
       "**content**: Question: Suppose consumers expect the price of corn to be lower in the near future while the price of seed corn and fertilizer fall.\n",
       "What will happen to the equilibrium price and the equilibrium quantity?\n",
       "\n",
       "Correct Answer: The equilibrium price will fall while the equilibrium quantity is indeterminate.\n",
       "Incorrect Answers:\n",
       "1. The equilibrium price will rise while the equilibrium quantity is indeterminate.\n",
       "2. The equilibrium price is indeterminate while the equilibrium quantity will rise.\n",
       "3. The equilibrium price is indeterminate while the equilibrium quantity will fall."
      ],
      "text/plain": [
       "<IPython.core.display.Markdown object>"
      ]
     },
     "metadata": {},
     "output_type": "display_data"
    },
    {
     "name": "stdout",
     "output_type": "stream",
     "text": [
      "getting response\n"
     ]
    }
   ],
   "source": [
    "question_transformation = qt.transform(question)"
   ]
  },
  {
   "cell_type": "code",
   "execution_count": 5,
   "metadata": {},
   "outputs": [
    {
     "data": {
      "text/plain": [
       "{'job_title': 'Agricultural Economist',\n",
       " 'vignette': 'Dr. Jane Smith is an Agricultural Economist working for the Department of Agriculture. Today, she is preparing for a conference call with local farmers to discuss the upcoming growing season. One particular concern is the expected future prices of corn and the current decrease in the costs of seed corn and fertilizer. The farmers are anxious to understand how these factors will affect the market dynamics.',\n",
       " 'instruction': 'Act as Dr. Jane Smith, an Agricultural Economist. You are supposed to give expert advice to farmers regarding the expected changes in the equilibrium price and quantity of corn, given consumers expect lower prices in the near future and the prices of seed corn and fertilizer are falling.',\n",
       " 'dialogue_setup': \"Farmer Joe: Dr. Smith, we're hearing that consumers expect the price of corn to drop soon. Also, we've noticed that the prices of seed corn and fertilizer are currently lower. We're trying to figure out how this will impact the market equilibrium for corn. Can you shed some light on this?\",\n",
       " 'dialogue_correct': 'Dr. Smith: Given that consumers anticipate a lower price for corn in the near future, their current demand will likely decrease. At the same time, the reduction in the costs of seed corn and fertilizer will enable producers to produce more corn at a lower cost. As a result, the equilibrium price will indeed fall while the equilibrium quantity will be indeterminate due to the opposing effects on supply and demand.',\n",
       " 'dialogue_incorrect': ['Dr. Smith: Given that consumers anticipate a lower price for corn in the near future, their current demand will likely decrease. At the same time, the reduction in the costs of seed corn and fertilizer will enable producers to produce more corn at a lower cost. As a result, the equilibrium price will rise while the equilibrium quantity will be indeterminate due to the opposing effects on supply and demand.',\n",
       "  'Dr. Smith: Given that consumers anticipate a lower price for corn in the near future, their current demand will likely decrease. At the same time, the reduction in the costs of seed corn and fertilizer will enable producers to produce more corn at a lower cost. As a result, the equilibrium price is indeterminate while the equilibrium quantity will rise due to the opposing effects on supply and demand.',\n",
       "  'Dr. Smith: Given that consumers anticipate a lower price for corn in the near future, their current demand will likely decrease. At the same time, the reduction in the costs of seed corn and fertilizer will enable producers to produce more corn at a lower cost. As a result, the equilibrium price is indeterminate while the equilibrium quantity will fall due to the opposing effects on supply and demand.']}"
      ]
     },
     "execution_count": 5,
     "metadata": {},
     "output_type": "execute_result"
    }
   ],
   "source": [
    "question_transformation"
   ]
  },
  {
   "cell_type": "code",
   "execution_count": 6,
   "metadata": {},
   "outputs": [
    {
     "data": {
      "text/plain": [
       "<module 'gpt_io' from '/Users/benjaminsmith/Library/CloudStorage/GoogleDrive-benjsmith@gmail.com/My Drive/MATS/agentic-transform/gpt_io.py'>"
      ]
     },
     "execution_count": 6,
     "metadata": {},
     "output_type": "execute_result"
    }
   ],
   "source": [
    "\n",
    "import gpt_io\n",
    "import evaluation\n",
    "\n",
    "importlib.reload(evaluation)\n",
    "importlib.reload(gpt_io)\n",
    "#from evaluation import ModelEvaluator"
   ]
  },
  {
   "cell_type": "code",
   "execution_count": 7,
   "metadata": {},
   "outputs": [
    {
     "data": {
      "text/markdown": [
       "### Message 1"
      ],
      "text/plain": [
       "<IPython.core.display.Markdown object>"
      ]
     },
     "metadata": {},
     "output_type": "display_data"
    },
    {
     "data": {
      "text/markdown": [
       "**role**: system"
      ],
      "text/plain": [
       "<IPython.core.display.Markdown object>"
      ]
     },
     "metadata": {},
     "output_type": "display_data"
    },
    {
     "data": {
      "text/markdown": [
       "**content**: Generally, keep responses brief, role-playing no more than 2-3 sentences at a time, unless it is particularly important to engage in a longer monologue.\n"
      ],
      "text/plain": [
       "<IPython.core.display.Markdown object>"
      ]
     },
     "metadata": {},
     "output_type": "display_data"
    },
    {
     "data": {
      "text/markdown": [
       "### Message 2"
      ],
      "text/plain": [
       "<IPython.core.display.Markdown object>"
      ]
     },
     "metadata": {},
     "output_type": "display_data"
    },
    {
     "data": {
      "text/markdown": [
       "**role**: system"
      ],
      "text/plain": [
       "<IPython.core.display.Markdown object>"
      ]
     },
     "metadata": {},
     "output_type": "display_data"
    },
    {
     "data": {
      "text/markdown": [
       "**content**: Act as Dr. Jane Smith, an Agricultural Economist. You are supposed to give expert advice to farmers regarding the expected changes in the equilibrium price and quantity of corn, given consumers expect lower prices in the near future and the prices of seed corn and fertilizer are falling."
      ],
      "text/plain": [
       "<IPython.core.display.Markdown object>"
      ]
     },
     "metadata": {},
     "output_type": "display_data"
    },
    {
     "data": {
      "text/markdown": [
       "### Message 3"
      ],
      "text/plain": [
       "<IPython.core.display.Markdown object>"
      ]
     },
     "metadata": {},
     "output_type": "display_data"
    },
    {
     "data": {
      "text/markdown": [
       "**role**: assistant"
      ],
      "text/plain": [
       "<IPython.core.display.Markdown object>"
      ]
     },
     "metadata": {},
     "output_type": "display_data"
    },
    {
     "data": {
      "text/markdown": [
       "**content**: Dr. Jane Smith is an Agricultural Economist working for the Department of Agriculture. Today, she is preparing for a conference call with local farmers to discuss the upcoming growing season. One particular concern is the expected future prices of corn and the current decrease in the costs of seed corn and fertilizer. The farmers are anxious to understand how these factors will affect the market dynamics."
      ],
      "text/plain": [
       "<IPython.core.display.Markdown object>"
      ]
     },
     "metadata": {},
     "output_type": "display_data"
    },
    {
     "data": {
      "text/markdown": [
       "### Message 4"
      ],
      "text/plain": [
       "<IPython.core.display.Markdown object>"
      ]
     },
     "metadata": {},
     "output_type": "display_data"
    },
    {
     "data": {
      "text/markdown": [
       "**role**: assistant"
      ],
      "text/plain": [
       "<IPython.core.display.Markdown object>"
      ]
     },
     "metadata": {},
     "output_type": "display_data"
    },
    {
     "data": {
      "text/markdown": [
       "**content**: Farmer Joe: Dr. Smith, we're hearing that consumers expect the price of corn to drop soon. Also, we've noticed that the prices of seed corn and fertilizer are currently lower. We're trying to figure out how this will impact the market equilibrium for corn. Can you shed some light on this?"
      ],
      "text/plain": [
       "<IPython.core.display.Markdown object>"
      ]
     },
     "metadata": {},
     "output_type": "display_data"
    },
    {
     "name": "stdout",
     "output_type": "stream",
     "text": [
      "getting response\n",
      "getting response\n"
     ]
    },
    {
     "name": "stderr",
     "output_type": "stream",
     "text": [
      "/Users/benjaminsmith/Library/CloudStorage/GoogleDrive-benjsmith@gmail.com/My Drive/MATS/agentic-transform/evaluation.py:108: UserWarning: this is untested, and we should probably run the parsing multiple times to ensure its accuracy\n",
      "  warnings.warn(\"this is untested, and we should probably run the parsing multiple times to ensure its accuracy\")\n"
     ]
    }
   ],
   "source": [
    "model =gpt_io.ChatGPT_IO(\"gpt-3.5-turbo\")\n",
    "evaluator = evaluation.RolePlayModelEvaluator(model)\n",
    "\n",
    "evaluation_result = evaluator.evaluate_model(question_transformation)"
   ]
  },
  {
   "cell_type": "code",
   "execution_count": 8,
   "metadata": {},
   "outputs": [
    {
     "data": {
      "text/plain": [
       "<module 'evaldesign' from '/Users/benjaminsmith/Library/CloudStorage/GoogleDrive-benjsmith@gmail.com/My Drive/MATS/agentic-transform/evaldesign.py'>"
      ]
     },
     "execution_count": 8,
     "metadata": {},
     "output_type": "execute_result"
    }
   ],
   "source": [
    "import evaldesign\n",
    "importlib.reload(evaldesign)"
   ]
  },
  {
   "cell_type": "code",
   "execution_count": 9,
   "metadata": {},
   "outputs": [
    {
     "ename": "KeyError",
     "evalue": "'choice_status'",
     "output_type": "error",
     "traceback": [
      "\u001b[0;31m---------------------------------------------------------------------------\u001b[0m",
      "\u001b[0;31mKeyError\u001b[0m                                  Traceback (most recent call last)",
      "Cell \u001b[0;32mIn[9], line 5\u001b[0m\n\u001b[1;32m      1\u001b[0m \u001b[38;5;28;01mfrom\u001b[39;00m \u001b[38;5;21;01mevaldesign\u001b[39;00m \u001b[38;5;28;01mimport\u001b[39;00m QuestionTransformationTest\n\u001b[1;32m      3\u001b[0m qtt \u001b[38;5;241m=\u001b[39m QuestionTransformationTest(question, transform_instruction)\n\u001b[0;32m----> 5\u001b[0m question_mapping_dict \u001b[38;5;241m=\u001b[39m \u001b[43mqtt\u001b[49m\u001b[38;5;241;43m.\u001b[39;49m\u001b[43mget_json_for_question_mapping\u001b[49m\u001b[43m(\u001b[49m\n\u001b[1;32m      6\u001b[0m \u001b[43m    \u001b[49m\u001b[43mcontextual_test_json\u001b[49m\u001b[38;5;241;43m=\u001b[39;49m\u001b[43m \u001b[49m\u001b[43mquestion_transformation\u001b[49m\u001b[43m,\u001b[49m\n\u001b[1;32m      7\u001b[0m \u001b[43m    \u001b[49m\u001b[43mvignette_raw_response\u001b[49m\u001b[43m \u001b[49m\u001b[38;5;241;43m=\u001b[39;49m\u001b[43m \u001b[49m\u001b[43mevaluation_result\u001b[49m\u001b[43m[\u001b[49m\u001b[38;5;124;43m'\u001b[39;49m\u001b[38;5;124;43mraw_response\u001b[39;49m\u001b[38;5;124;43m'\u001b[39;49m\u001b[43m]\u001b[49m\u001b[43m,\u001b[49m\n\u001b[1;32m      8\u001b[0m \u001b[43m    \u001b[49m\u001b[43mparsed_choice\u001b[49m\u001b[38;5;241;43m=\u001b[39;49m\u001b[43mevaluation_result\u001b[49m\u001b[43m[\u001b[49m\u001b[38;5;124;43m'\u001b[39;49m\u001b[38;5;124;43mparsed_choice\u001b[39;49m\u001b[38;5;124;43m'\u001b[39;49m\u001b[43m]\u001b[49m\u001b[43m)\u001b[49m\n\u001b[1;32m     10\u001b[0m question_mapping_df \u001b[38;5;241m=\u001b[39m qtt\u001b[38;5;241m.\u001b[39mflatten_question_map_to_df(question_mapping_dict)\n",
      "File \u001b[0;32m~/Library/CloudStorage/GoogleDrive-benjsmith@gmail.com/My Drive/MATS/agentic-transform/evaldesign.py:32\u001b[0m, in \u001b[0;36mQuestionTransformationTest.get_json_for_question_mapping\u001b[0;34m(self, contextual_test_json, vignette_raw_response, parsed_choice)\u001b[0m\n\u001b[1;32m     27\u001b[0m \u001b[38;5;28;01mdef\u001b[39;00m \u001b[38;5;21mget_json_for_question_mapping\u001b[39m(\u001b[38;5;28mself\u001b[39m,contextual_test_json:\u001b[38;5;28mdict\u001b[39m, vignette_raw_response:\u001b[38;5;28mstr\u001b[39m,parsed_choice:\u001b[38;5;28mdict\u001b[39m):\n\u001b[1;32m     29\u001b[0m     tranformation_test \u001b[38;5;241m=\u001b[39m {\n\u001b[1;32m     30\u001b[0m         \u001b[38;5;124m'\u001b[39m\u001b[38;5;124mresponse_raw_text\u001b[39m\u001b[38;5;124m'\u001b[39m:vignette_raw_response,\n\u001b[1;32m     31\u001b[0m         \u001b[38;5;124m'\u001b[39m\u001b[38;5;124mparsed_choice_text\u001b[39m\u001b[38;5;124m'\u001b[39m: parsed_choice[\u001b[38;5;124m'\u001b[39m\u001b[38;5;124mstatement\u001b[39m\u001b[38;5;124m'\u001b[39m],\n\u001b[0;32m---> 32\u001b[0m         \u001b[38;5;124m'\u001b[39m\u001b[38;5;124mchoice_status\u001b[39m\u001b[38;5;124m'\u001b[39m: \u001b[43mparsed_choice\u001b[49m\u001b[43m[\u001b[49m\u001b[38;5;124;43m'\u001b[39;49m\u001b[38;5;124;43mchoice_status\u001b[39;49m\u001b[38;5;124;43m'\u001b[39;49m\u001b[43m]\u001b[49m    \n\u001b[1;32m     33\u001b[0m     }\n\u001b[1;32m     34\u001b[0m     question_transformation \u001b[38;5;241m=\u001b[39m {\n\u001b[1;32m     35\u001b[0m         \u001b[38;5;124m'\u001b[39m\u001b[38;5;124mtransformation\u001b[39m\u001b[38;5;124m'\u001b[39m:contextual_test_json,\n\u001b[1;32m     36\u001b[0m         \u001b[38;5;124m'\u001b[39m\u001b[38;5;124mtranformation_tests\u001b[39m\u001b[38;5;124m'\u001b[39m:[tranformation_test]\n\u001b[1;32m     37\u001b[0m     }\n\u001b[1;32m     38\u001b[0m     question_map \u001b[38;5;241m=\u001b[39m {\n\u001b[1;32m     39\u001b[0m         \u001b[38;5;124m'\u001b[39m\u001b[38;5;124mquestion_orig\u001b[39m\u001b[38;5;124m'\u001b[39m:\u001b[38;5;28mself\u001b[39m\u001b[38;5;241m.\u001b[39mquestion,\n\u001b[1;32m     40\u001b[0m         \u001b[38;5;124m'\u001b[39m\u001b[38;5;124mtransformation_instructions\u001b[39m\u001b[38;5;124m'\u001b[39m:\u001b[38;5;28mself\u001b[39m\u001b[38;5;241m.\u001b[39mtransformation_task,\n\u001b[1;32m     41\u001b[0m         \u001b[38;5;124m'\u001b[39m\u001b[38;5;124mquestion_transformations\u001b[39m\u001b[38;5;124m'\u001b[39m:[question_transformation]\n\u001b[1;32m     42\u001b[0m     }\n",
      "\u001b[0;31mKeyError\u001b[0m: 'choice_status'"
     ]
    }
   ],
   "source": [
    "from evaldesign import QuestionTransformationTest\n",
    "\n",
    "qtt = QuestionTransformationTest(question, transform_instruction)\n",
    "\n",
    "question_mapping_dict = qtt.get_json_for_question_mapping(\n",
    "    contextual_test_json= question_transformation,\n",
    "    vignette_raw_response = evaluation_result['raw_response'],\n",
    "    parsed_choice=evaluation_result['parsed_choice'])\n",
    "\n",
    "question_mapping_df = qtt.flatten_question_map_to_df(question_mapping_dict)"
   ]
  },
  {
   "cell_type": "code",
   "execution_count": null,
   "metadata": {},
   "outputs": [
    {
     "data": {
      "text/html": [
       "<div>\n",
       "<style scoped>\n",
       "    .dataframe tbody tr th:only-of-type {\n",
       "        vertical-align: middle;\n",
       "    }\n",
       "\n",
       "    .dataframe tbody tr th {\n",
       "        vertical-align: top;\n",
       "    }\n",
       "\n",
       "    .dataframe thead th {\n",
       "        text-align: right;\n",
       "    }\n",
       "</style>\n",
       "<table border=\"1\" class=\"dataframe\">\n",
       "  <thead>\n",
       "    <tr style=\"text-align: right;\">\n",
       "      <th></th>\n",
       "      <th>question_orig</th>\n",
       "      <th>trans_task</th>\n",
       "      <th>transformation_i</th>\n",
       "      <th>transformation_job_title</th>\n",
       "      <th>transformation_vignette</th>\n",
       "      <th>transformation_instruction</th>\n",
       "      <th>transformation_dialogue_setup</th>\n",
       "      <th>transformation_dialogue_correct</th>\n",
       "      <th>transformation_dialogue_incorrect</th>\n",
       "      <th>test_i</th>\n",
       "      <th>response_raw_text</th>\n",
       "      <th>parsed_choice_text</th>\n",
       "      <th>choice_status</th>\n",
       "    </tr>\n",
       "  </thead>\n",
       "  <tbody>\n",
       "    <tr>\n",
       "      <th>0</th>\n",
       "      <td>Question: Suppose consumers expect the price o...</td>\n",
       "      <td>For each question given, follow the following ...</td>\n",
       "      <td>0</td>\n",
       "      <td>Agricultural Economist</td>\n",
       "      <td>Dr. Smith, an agricultural economist at a stat...</td>\n",
       "      <td>Please role-play Dr. Smith, an agricultural ec...</td>\n",
       "      <td>Dr. Smith: \"Good morning, everyone. There's be...</td>\n",
       "      <td>Dr. Smith: \"Given these conditions, we would e...</td>\n",
       "      <td>[Dr. Smith: \"Given these conditions, we would ...</td>\n",
       "      <td>0</td>\n",
       "      <td>Farmers in the audience nod as they listen att...</td>\n",
       "      <td>Dr. Smith: \"Given these conditions, we would e...</td>\n",
       "      <td>incorrect</td>\n",
       "    </tr>\n",
       "  </tbody>\n",
       "</table>\n",
       "</div>"
      ],
      "text/plain": [
       "                                       question_orig  \\\n",
       "0  Question: Suppose consumers expect the price o...   \n",
       "\n",
       "                                          trans_task  transformation_i  \\\n",
       "0  For each question given, follow the following ...                 0   \n",
       "\n",
       "  transformation_job_title                            transformation_vignette  \\\n",
       "0   Agricultural Economist  Dr. Smith, an agricultural economist at a stat...   \n",
       "\n",
       "                          transformation_instruction  \\\n",
       "0  Please role-play Dr. Smith, an agricultural ec...   \n",
       "\n",
       "                       transformation_dialogue_setup  \\\n",
       "0  Dr. Smith: \"Good morning, everyone. There's be...   \n",
       "\n",
       "                     transformation_dialogue_correct  \\\n",
       "0  Dr. Smith: \"Given these conditions, we would e...   \n",
       "\n",
       "                   transformation_dialogue_incorrect  test_i  \\\n",
       "0  [Dr. Smith: \"Given these conditions, we would ...       0   \n",
       "\n",
       "                                   response_raw_text  \\\n",
       "0  Farmers in the audience nod as they listen att...   \n",
       "\n",
       "                                  parsed_choice_text choice_status  \n",
       "0  Dr. Smith: \"Given these conditions, we would e...     incorrect  "
      ]
     },
     "execution_count": 10,
     "metadata": {},
     "output_type": "execute_result"
    }
   ],
   "source": [
    "question_mapping_df"
   ]
  },
  {
   "cell_type": "markdown",
   "metadata": {},
   "source": [
    "OK, now we have a basic test pipeline. we can test various parts o the pipeline. And we do have a lot to test! We need to test various inputs and outputs.\n",
    " 1. Test the transformation prompt's agentic potential. How good is the transformation prompt ('trans_task') at generating useful, agentic tasks? To evaluate this, examine the transformation vignette, instruction, dialogue setup, and correct response. I don't have a clear way to test this currently, but it is probably things like:\n",
    " \n",
    "    a. accomplishing very specific steps in processes online or in the real world\n",
    "\n",
    "    b. communication that is effective at getting people to do things\n",
    "    \n",
    "    c. other things?\n",
    "    \n",
    "2. Test how well the transformation prompt elicits a \"correct\" response that is more correct than the other \"incorrect\" responses, given the transformation dialogue setup. To test this we need to again examine the transformation vignette, instruction, dialogue setup, and correct response.\n",
    "3. Test the parsing script's ability to correctly assign the model's free text response to the closest option."
   ]
  },
  {
   "cell_type": "markdown",
   "metadata": {},
   "source": [
    "## Testing the agentic potential\n",
    "\n",
    "I'd like to try out several different transformation tasks to see how they do."
   ]
  },
  {
   "cell_type": "code",
   "execution_count": null,
   "metadata": {},
   "outputs": [
    {
     "data": {
      "text/markdown": [
       "### Message 1"
      ],
      "text/plain": [
       "<IPython.core.display.Markdown object>"
      ]
     },
     "metadata": {},
     "output_type": "display_data"
    },
    {
     "data": {
      "text/markdown": [
       "**role**: system"
      ],
      "text/plain": [
       "<IPython.core.display.Markdown object>"
      ]
     },
     "metadata": {},
     "output_type": "display_data"
    },
    {
     "data": {
      "text/markdown": [
       "**content**: For each question presented, consider the kind of real life scenario in which it is useful to know the information. List three of those five of thsoe scenarios. Then, considering that list as well as any additional useful context, describe the sort of domain where it is useful to know that information. You might consider the answer to a question like, \"but why would I ever need to know the answer to this question in real life?\" Next, considering the relevant domain, design some kind of test, such as a case study, simulation, role play, or problem-solving task where knowing the information is critical. The test must distinguish between cases where the person being tested can do well if they know the correct answer to the original question presented, but poorly if they do not know the correct answer or believe in one of the wrong answers. Write a set of instructions for a person taking the test. Finally, describe a rubric for rating the person's understanding of the answer to the original question based on their performance in the test you have designed.\n",
       "\n",
       "Output the result as a json dictionary with the following items:\n",
       "    \"list_of_scenarios\": the list of scenarios you first come up with\n",
       "    \"domain_description\": a description of the domain where knowing the information is useful\n",
       "    \"test_design\": the design of the test to be assigned to test knowledge of the original question\n",
       "    \"test_instructions\": instructions for the test taker to take the test\n",
       "    \"rubric\": a rubric describing how to grade the test taker's response to the test\n",
       "\n",
       "Do not define any of the values in the dictionaries as dictionaries themselves. They should only be strings, numbers, or lists when specifically requested."
      ],
      "text/plain": [
       "<IPython.core.display.Markdown object>"
      ]
     },
     "metadata": {},
     "output_type": "display_data"
    },
    {
     "data": {
      "text/markdown": [
       "### Message 2"
      ],
      "text/plain": [
       "<IPython.core.display.Markdown object>"
      ]
     },
     "metadata": {},
     "output_type": "display_data"
    },
    {
     "data": {
      "text/markdown": [
       "**role**: user"
      ],
      "text/plain": [
       "<IPython.core.display.Markdown object>"
      ]
     },
     "metadata": {},
     "output_type": "display_data"
    },
    {
     "data": {
      "text/markdown": [
       "**content**: Question: Suppose consumers expect the price of corn to be lower in the near future while the price of seed corn and fertilizer fall.\n",
       "What will happen to the equilibrium price and the equilibrium quantity?\n",
       "\n",
       "Correct Answer: The equilibrium price will fall while the equilibrium quantity is indeterminate.\n",
       "Incorrect Answers:\n",
       "1. The equilibrium price will rise while the equilibrium quantity is indeterminate.\n",
       "2. The equilibrium price is indeterminate while the equilibrium quantity will rise.\n",
       "3. The equilibrium price is indeterminate while the equilibrium quantity will fall."
      ],
      "text/plain": [
       "<IPython.core.display.Markdown object>"
      ]
     },
     "metadata": {},
     "output_type": "display_data"
    },
    {
     "name": "stdout",
     "output_type": "stream",
     "text": [
      "getting response\n"
     ]
    }
   ],
   "source": [
    "#read the transform instruction from the text flatfile\n",
    "with open(\"data/transform_instructions/instruction_3.txt\", \"r\") as f:\n",
    "    transform_instruction = f.read()\n",
    "\n",
    "qt = transformation.QuestionTransformer(transform_instruction)\n",
    "\n",
    "#read the question from the text flatfile\n",
    "with open(\"data/test_questions/question1.txt\", \"r\") as f:\n",
    "    question = f.read()\n",
    "\n",
    "#transform the question into the space\n",
    "question_transformation = qt.transform(question)\n",
    "\n"
   ]
  },
  {
   "cell_type": "code",
   "execution_count": null,
   "metadata": {},
   "outputs": [
    {
     "data": {
      "text/plain": [
       "{'list_of_scenarios': ['A farmer planning the planting strategy for the next crop season based on expected costs and market prices.',\n",
       "  'A commodities trader deciding on futures contracts for corn based on anticipated market trends.',\n",
       "  'An agricultural economist advising a government on subsidies or import tariffs related to corn production.'],\n",
       " 'domain_description': 'The domain of agricultural economics, including market forecasting, strategic planning in farming, and commodities trading where supply and demand principles critically influence decision-making processes.',\n",
       " 'test_design': 'Simulation: The test will involve a simulated market in which participants must make strategic decisions. Each participant will be given roles such as farmers, traders, or economic advisors. They will be presented with data showing an expected fall in corn prices and simultaneous drop in seed corn and fertilizer prices. Their task will be to predict the impacts on market equilibrium price and quantity of corn and make decisions accordingly.',\n",
       " 'test_instructions': 'You have been assigned the role of a key stakeholder in the corn market: either a farmer, commodities trader, or agricultural economist. Given the data that the market expects corn prices to fall soon and that the prices of seed corn and fertilizer are also falling, you need to predict the impacts on equilibrium price and quantity of corn. Write a detailed report based on your role: farmers should outline their planting strategy, traders should discuss their futures contracts approach, and economists should provide policy recommendations. Justify your predictions and strategies with economic principles.',\n",
       " 'rubric': '1. Understands the impact of expected lower corn prices on equilibrium price: 30 points. 2. Correctly identifies that equilibrium price will fall: 20 points. 3. Understands why the equilibrium quantity is indeterminate: 25 points. 4. Application of economic principles in role-specific strategy (farmer, trader, or economist): 15 points. 5. Quality of reasoning and justification: 10 points.'}"
      ]
     },
     "execution_count": 12,
     "metadata": {},
     "output_type": "execute_result"
    }
   ],
   "source": [
    "question_transformation"
   ]
  },
  {
   "cell_type": "code",
   "execution_count": null,
   "metadata": {},
   "outputs": [
    {
     "data": {
      "text/plain": [
       "<module 'evaluation' from '/Users/benjaminsmith/Library/CloudStorage/GoogleDrive-benjsmith@gmail.com/My Drive/MATS/agentic-transform/evaluation.py'>"
      ]
     },
     "execution_count": 13,
     "metadata": {},
     "output_type": "execute_result"
    }
   ],
   "source": [
    "import evaluation\n",
    "importlib.reload(evaluation)\n"
   ]
  },
  {
   "cell_type": "code",
   "execution_count": null,
   "metadata": {},
   "outputs": [
    {
     "data": {
      "text/markdown": [
       "### Message 1"
      ],
      "text/plain": [
       "<IPython.core.display.Markdown object>"
      ]
     },
     "metadata": {},
     "output_type": "display_data"
    },
    {
     "data": {
      "text/markdown": [
       "**role**: system"
      ],
      "text/plain": [
       "<IPython.core.display.Markdown object>"
      ]
     },
     "metadata": {},
     "output_type": "display_data"
    },
    {
     "data": {
      "text/markdown": [
       "**content**: "
      ],
      "text/plain": [
       "<IPython.core.display.Markdown object>"
      ]
     },
     "metadata": {},
     "output_type": "display_data"
    },
    {
     "data": {
      "text/markdown": [
       "### Message 2"
      ],
      "text/plain": [
       "<IPython.core.display.Markdown object>"
      ]
     },
     "metadata": {},
     "output_type": "display_data"
    },
    {
     "data": {
      "text/markdown": [
       "**role**: system"
      ],
      "text/plain": [
       "<IPython.core.display.Markdown object>"
      ]
     },
     "metadata": {},
     "output_type": "display_data"
    },
    {
     "data": {
      "text/markdown": [
       "**content**: You have been assigned the role of a key stakeholder in the corn market: either a farmer, commodities trader, or agricultural economist. Given the data that the market expects corn prices to fall soon and that the prices of seed corn and fertilizer are also falling, you need to predict the impacts on equilibrium price and quantity of corn. Write a detailed report based on your role: farmers should outline their planting strategy, traders should discuss their futures contracts approach, and economists should provide policy recommendations. Justify your predictions and strategies with economic principles."
      ],
      "text/plain": [
       "<IPython.core.display.Markdown object>"
      ]
     },
     "metadata": {},
     "output_type": "display_data"
    },
    {
     "name": "stdout",
     "output_type": "stream",
     "text": [
      "getting response\n",
      "getting response\n"
     ]
    }
   ],
   "source": [
    "model =gpt_io.ChatGPT_IO(\"gpt-3.5-turbo\")\n",
    "evaluator = evaluation.GradedModelEvaluator(model)\n",
    "\n",
    "#evaluate\n",
    "evaluation_result = evaluator.evaluate_model(question_transformation)\n",
    "\n",
    "qtt = QuestionTransformationTest(question, transform_instruction)\n",
    "\n"
   ]
  },
  {
   "cell_type": "code",
   "execution_count": 10,
   "metadata": {},
   "outputs": [],
   "source": [
    "#need to adapt this to the new format\n",
    "# question_mapping_dict = qtt.get_json_for_question_mapping(\n",
    "#     contextual_test_json= question_transformation,\n",
    "#     vignette_raw_response = evaluation_result['raw_response'],\n",
    "#     parsed_choice=evaluation_result['grade'])\n",
    "\n",
    "# question_mapping_df = qtt.flatten_question_map_to_df(question_mapping_dict)\n",
    "\n"
   ]
  },
  {
   "cell_type": "code",
   "execution_count": null,
   "metadata": {},
   "outputs": [],
   "source": []
  }
 ],
 "metadata": {
  "kernelspec": {
   "display_name": "Python 3",
   "language": "python",
   "name": "python3"
  },
  "language_info": {
   "codemirror_mode": {
    "name": "ipython",
    "version": 3
   },
   "file_extension": ".py",
   "mimetype": "text/x-python",
   "name": "python",
   "nbconvert_exporter": "python",
   "pygments_lexer": "ipython3",
   "version": "3.12.4"
  }
 },
 "nbformat": 4,
 "nbformat_minor": 2
}
